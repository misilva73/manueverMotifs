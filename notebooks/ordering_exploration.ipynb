{
 "cells": [
  {
   "cell_type": "markdown",
   "metadata": {},
   "source": [
    "# Motifs ordering exploration\n",
    "\n",
    "## Maria Inês Silva\n",
    "## 01/02/2019\n",
    "\n",
    "***"
   ]
  },
  {
   "cell_type": "code",
   "execution_count": 1,
   "metadata": {},
   "outputs": [],
   "source": [
    "import time\n",
    "import pandas as pd\n",
    "import numpy as np\n",
    "import matplotlib.pyplot as plt\n",
    "import pickle\n",
    "import seaborn as sns\n",
    "import matplotlib.pyplot as plt\n",
    "\n",
    "# extendedMD code\n",
    "import sys\n",
    "import os\n",
    "sys.path.insert(0, os.path.abspath('../'))\n",
    "import extendedMD.emd as emd\n",
    "from extendedMD.viz import create_motif_table, plot_k_motifs\n",
    "from extendedMD.pruning import prune_motifs_with_mdl, prune_motifs_with_dist"
   ]
  },
  {
   "cell_type": "code",
   "execution_count": 2,
   "metadata": {},
   "outputs": [],
   "source": [
    "cwd = os.getcwd()\n",
    "data_folder = os.path.abspath(os.path.join(cwd, os.pardir, 'data'))\n",
    "output_folder = os.path.abspath(os.path.join(cwd, os.pardir, 'outputs/experiments_lat_acc'))"
   ]
  },
  {
   "cell_type": "code",
   "execution_count": 3,
   "metadata": {},
   "outputs": [],
   "source": [
    "def plot_zoomin_motif(ts, motif_index, motif_point_list, events_ts,  x_lim):\n",
    "    motif_pointers = motif_point_list[motif_index]\n",
    "    event_df = pd.DataFrame([ts, events_ts.values]).T.reset_index()\n",
    "    event_df.columns = ['index', 'var', 'event']\n",
    "    fig = plt.figure(figsize=(25,10))\n",
    "    plt.subplot(3,1,1)\n",
    "    plt.plot(ts, 'tab:gray')\n",
    "    for temp_point in motif_pointers:\n",
    "        plt.plot(temp_point, ts[temp_point], 'tab:blue')\n",
    "    sns.scatterplot(x=\"index\", y=\"var\", hue=\"event\", data=event_df[event_df['event']>0], legend=False,\n",
    "                    palette=sns.xkcd_palette(['red', 'tangerine', 'greenish yellow']))\n",
    "    plt.ylim(min(ts), max(ts))\n",
    "    plt.xlim(x_lim)\n",
    "    return fig"
   ]
  },
  {
   "cell_type": "markdown",
   "metadata": {},
   "source": [
    "## Data import"
   ]
  },
  {
   "cell_type": "code",
   "execution_count": 4,
   "metadata": {},
   "outputs": [],
   "source": [
    "trip_df = pd.read_pickle(os.path.join(data_folder, 'trip_df.pkl'))\n",
    "lat_acc_ts = trip_df['ay'].values\n",
    "events_ts = trip_df['event_type'].values"
   ]
  },
  {
   "cell_type": "code",
   "execution_count": 5,
   "metadata": {},
   "outputs": [],
   "source": [
    "file = os.path.join(output_folder, 'trip_exp4.p')\n",
    "motif_dic_list = pickle.load(open(file, 'rb'))\n",
    "R = 0.2"
   ]
  },
  {
   "cell_type": "markdown",
   "metadata": {},
   "source": [
    "## Motif prunning"
   ]
  },
  {
   "cell_type": "code",
   "execution_count": null,
   "metadata": {},
   "outputs": [],
   "source": [
    "start_time = time.time()\n",
    "pruned_motif_dic_list = prune_motifs_with_mdl(lat_acc_ts, motif_dic_list, R)\n",
    "pruned_motif_df = create_motif_table(pruned_motif_dic_list)\n",
    "print(\"Prunning algorithm run in {} minutes\".format(round((time.time() - start_time)/60, 2)))\n",
    "pruned_motif_df"
   ]
  },
  {
   "cell_type": "code",
   "execution_count": null,
   "metadata": {},
   "outputs": [],
   "source": [
    "plot_k_motifs(len(pruned_motif_df), lat_acc_ts, events_ts, pruned_motif_dic_list, 'lateral acceleration')"
   ]
  },
  {
   "cell_type": "code",
   "execution_count": null,
   "metadata": {},
   "outputs": [],
   "source": [
    "start_time = time.time()\n",
    "pruned_motif_dic_list = prune_motifs_with_dist(lat_acc_ts, motif_dic_list, R, 50)\n",
    "pruned_motif_df = create_motif_table(pruned_motif_dic_list)\n",
    "print(\"Prunning algorithm run in {} minutes\".format(round((time.time() - start_time)/60, 2)))\n",
    "pruned_motif_df"
   ]
  },
  {
   "cell_type": "code",
   "execution_count": null,
   "metadata": {},
   "outputs": [],
   "source": [
    "plot_k_motifs(len(pruned_motif_df), lat_acc_ts, events_ts, pruned_motif_dic_list, 'lateral acceleration')"
   ]
  },
  {
   "cell_type": "markdown",
   "metadata": {},
   "source": [
    "## Computing the events partition for each motif"
   ]
  },
  {
   "cell_type": "code",
   "execution_count": 6,
   "metadata": {},
   "outputs": [],
   "source": [
    "def compute_event_partition(motif_dic_list, events_ts):\n",
    "    motif_event_partition_list = []\n",
    "    for motif_dic in motif_dic_list:\n",
    "        motif_events_dic_list = []\n",
    "        for member_pointers in motif_dic['members_ts_pointers']:\n",
    "            member_events_list = [events_ts[i] for i in member_pointers]\n",
    "            member_events_dic = {'brakes': np.sum([member_event==1 for member_event in member_events_list]),\n",
    "                                 'turns': np.sum([member_event==2 for member_event in member_events_list]),\n",
    "                                 'accelerations': np.sum([member_event==3 for member_event in member_events_list])}\n",
    "            motif_events_dic_list.append(member_events_dic)\n",
    "        motif_events_partition = pd.DataFrame(motif_events_dic_list).sum()\n",
    "        if np.mean(motif_events_partition)==0:\n",
    "            motif_events_partition['dispersion'] = 0\n",
    "        else:\n",
    "            motif_events_partition['dispersion'] = round(np.std(motif_events_partition)/float(np.mean(motif_events_partition)), 2)\n",
    "        motif_event_partition_list.append(motif_events_partition)\n",
    "    motif_partition_df = pd.DataFrame(motif_event_partition_list)\n",
    "    return motif_partition_df"
   ]
  },
  {
   "cell_type": "code",
   "execution_count": 7,
   "metadata": {},
   "outputs": [
    {
     "data": {
      "text/html": [
       "<div>\n",
       "<style scoped>\n",
       "    .dataframe tbody tr th:only-of-type {\n",
       "        vertical-align: middle;\n",
       "    }\n",
       "\n",
       "    .dataframe tbody tr th {\n",
       "        vertical-align: top;\n",
       "    }\n",
       "\n",
       "    .dataframe thead th {\n",
       "        text-align: right;\n",
       "    }\n",
       "</style>\n",
       "<table border=\"1\" class=\"dataframe\">\n",
       "  <thead>\n",
       "    <tr style=\"text-align: right;\">\n",
       "      <th></th>\n",
       "      <th>accelerations</th>\n",
       "      <th>brakes</th>\n",
       "      <th>turns</th>\n",
       "      <th>dispersion</th>\n",
       "    </tr>\n",
       "  </thead>\n",
       "  <tbody>\n",
       "    <tr>\n",
       "      <th>0</th>\n",
       "      <td>0.0</td>\n",
       "      <td>0.0</td>\n",
       "      <td>2.0</td>\n",
       "      <td>1.41</td>\n",
       "    </tr>\n",
       "    <tr>\n",
       "      <th>1</th>\n",
       "      <td>0.0</td>\n",
       "      <td>0.0</td>\n",
       "      <td>0.0</td>\n",
       "      <td>0.00</td>\n",
       "    </tr>\n",
       "    <tr>\n",
       "      <th>2</th>\n",
       "      <td>5.0</td>\n",
       "      <td>1.0</td>\n",
       "      <td>1.0</td>\n",
       "      <td>0.81</td>\n",
       "    </tr>\n",
       "    <tr>\n",
       "      <th>3</th>\n",
       "      <td>0.0</td>\n",
       "      <td>0.0</td>\n",
       "      <td>0.0</td>\n",
       "      <td>0.00</td>\n",
       "    </tr>\n",
       "    <tr>\n",
       "      <th>4</th>\n",
       "      <td>0.0</td>\n",
       "      <td>0.0</td>\n",
       "      <td>0.0</td>\n",
       "      <td>0.00</td>\n",
       "    </tr>\n",
       "  </tbody>\n",
       "</table>\n",
       "</div>"
      ],
      "text/plain": [
       "   accelerations  brakes  turns  dispersion\n",
       "0            0.0     0.0    2.0        1.41\n",
       "1            0.0     0.0    0.0        0.00\n",
       "2            5.0     1.0    1.0        0.81\n",
       "3            0.0     0.0    0.0        0.00\n",
       "4            0.0     0.0    0.0        0.00"
      ]
     },
     "execution_count": 7,
     "metadata": {},
     "output_type": "execute_result"
    }
   ],
   "source": [
    "motif_partition_df = compute_event_partition(motif_dic_list, events_ts)\n",
    "motif_partition_df.head()"
   ]
  },
  {
   "cell_type": "markdown",
   "metadata": {},
   "source": [
    "## Create motif table"
   ]
  },
  {
   "cell_type": "code",
   "execution_count": 9,
   "metadata": {},
   "outputs": [],
   "source": [
    "def create_motif_event_table(motif_dic_list, events_ts):\n",
    "    pattern_list = [dic['pattern'] for dic in motif_dic_list]\n",
    "    mdl_cost_list = [dic['mdl_cost'] for dic in motif_dic_list]\n",
    "    mean_dist_list = [dic['mean_dist'] for dic in motif_dic_list]\n",
    "    n_members_list = [len(dic['members_ts_pointers']) for dic in motif_dic_list]\n",
    "    motif_table_dic = {\n",
    "        'pattern': pattern_list,\n",
    "        'pattern_len': [len(pattern) for pattern in pattern_list],\n",
    "        'n_members': n_members_list,\n",
    "        'mdl_cost': mdl_cost_list,\n",
    "        'mean_dist': mean_dist_list\n",
    "    }\n",
    "    motif_partition_df = compute_event_partition(motif_point_list, events_ts)\n",
    "    motif_df = pd.DataFrame(motif_dic) \\\n",
    "                        .join(motif_partition_df) \\\n",
    "                        .assign(mdl_cost = lambda x: x['mdl_cost'].round(1)) \\\n",
    "                        .sort_values('mdl_cost')\n",
    "    return motif_df"
   ]
  },
  {
   "cell_type": "code",
   "execution_count": 11,
   "metadata": {},
   "outputs": [
    {
     "ename": "NameError",
     "evalue": "name 'motif_point_list' is not defined",
     "output_type": "error",
     "traceback": [
      "\u001b[0;31m---------------------------------------------------------------------------\u001b[0m",
      "\u001b[0;31mNameError\u001b[0m                                 Traceback (most recent call last)",
      "\u001b[0;32m<ipython-input-11-8f077318fab7>\u001b[0m in \u001b[0;36m<module>\u001b[0;34m\u001b[0m\n\u001b[0;32m----> 1\u001b[0;31m \u001b[0mmotif_df\u001b[0m \u001b[0;34m=\u001b[0m \u001b[0mcreate_motif_event_table\u001b[0m\u001b[0;34m(\u001b[0m\u001b[0mmotif_dic_list\u001b[0m\u001b[0;34m,\u001b[0m \u001b[0mevents_ts\u001b[0m\u001b[0;34m)\u001b[0m\u001b[0;34m\u001b[0m\u001b[0m\n\u001b[0m\u001b[1;32m      2\u001b[0m \u001b[0mmotif_df\u001b[0m\u001b[0;34m.\u001b[0m\u001b[0mhead\u001b[0m\u001b[0;34m(\u001b[0m\u001b[0;34m)\u001b[0m\u001b[0;34m\u001b[0m\u001b[0m\n",
      "\u001b[0;32m<ipython-input-9-5603b20f4895>\u001b[0m in \u001b[0;36mcreate_motif_event_table\u001b[0;34m(motif_dic_list, events_ts)\u001b[0m\n\u001b[1;32m     11\u001b[0m         \u001b[0;34m'mean_dist'\u001b[0m\u001b[0;34m:\u001b[0m \u001b[0mmean_dist_list\u001b[0m\u001b[0;34m\u001b[0m\u001b[0m\n\u001b[1;32m     12\u001b[0m     }\n\u001b[0;32m---> 13\u001b[0;31m     \u001b[0mmotif_partition_df\u001b[0m \u001b[0;34m=\u001b[0m \u001b[0mcompute_event_partition\u001b[0m\u001b[0;34m(\u001b[0m\u001b[0mmotif_point_list\u001b[0m\u001b[0;34m,\u001b[0m \u001b[0mevents_ts\u001b[0m\u001b[0;34m)\u001b[0m\u001b[0;34m\u001b[0m\u001b[0m\n\u001b[0m\u001b[1;32m     14\u001b[0m     \u001b[0mmotif_df\u001b[0m \u001b[0;34m=\u001b[0m \u001b[0mpd\u001b[0m\u001b[0;34m.\u001b[0m\u001b[0mDataFrame\u001b[0m\u001b[0;34m(\u001b[0m\u001b[0mmotif_dic\u001b[0m\u001b[0;34m)\u001b[0m\u001b[0;31m \u001b[0m\u001b[0;31m\\\u001b[0m\u001b[0;34m\u001b[0m\u001b[0m\n\u001b[1;32m     15\u001b[0m                         \u001b[0;34m.\u001b[0m\u001b[0mjoin\u001b[0m\u001b[0;34m(\u001b[0m\u001b[0mmotif_partition_df\u001b[0m\u001b[0;34m)\u001b[0m\u001b[0;31m \u001b[0m\u001b[0;31m\\\u001b[0m\u001b[0;34m\u001b[0m\u001b[0m\n",
      "\u001b[0;31mNameError\u001b[0m: name 'motif_point_list' is not defined"
     ]
    }
   ],
   "source": [
    "motif_df = create_motif_event_table(motif_dic_list, events_ts)\n",
    "motif_df.head()"
   ]
  },
  {
   "cell_type": "code",
   "execution_count": null,
   "metadata": {},
   "outputs": [],
   "source": [
    "motif_df.plot.scatter('n_members', 'dispersion')\n",
    "plt.show()"
   ]
  },
  {
   "cell_type": "code",
   "execution_count": null,
   "metadata": {},
   "outputs": [],
   "source": [
    "single_event_df = motif_df[motif_df['dispersion']>1.4]\n",
    "len(single_event_df)"
   ]
  },
  {
   "cell_type": "code",
   "execution_count": null,
   "metadata": {},
   "outputs": [],
   "source": [
    "temp = single_event_df['accelerations']+single_event_df['turns']+single_event_df['brakes']\n",
    "temp.describe()"
   ]
  },
  {
   "cell_type": "code",
   "execution_count": null,
   "metadata": {},
   "outputs": [],
   "source": [
    "single_event_df.plot.scatter('mdl_cost', 'mean_dist')\n",
    "plt.show()"
   ]
  },
  {
   "cell_type": "code",
   "execution_count": null,
   "metadata": {},
   "outputs": [],
   "source": [
    "max_brake = np.sum([event==1 for event in events_ts])\n",
    "max_turn = np.sum([event==2 for event in events_ts])\n",
    "max_acc = np.sum([event==3 for event in events_ts])\n",
    "print(max_brake, max_turn, max_acc)"
   ]
  },
  {
   "cell_type": "code",
   "execution_count": null,
   "metadata": {},
   "outputs": [],
   "source": [
    "motif_df.sort_values('accelerations', ascending=False).head(10)"
   ]
  },
  {
   "cell_type": "code",
   "execution_count": null,
   "metadata": {},
   "outputs": [],
   "source": [
    "motif_df.sort_values('brakes', ascending=False).head(10)"
   ]
  },
  {
   "cell_type": "code",
   "execution_count": null,
   "metadata": {},
   "outputs": [],
   "source": [
    "single_event_df.sort_values('turns', ascending=False).head(10)"
   ]
  },
  {
   "cell_type": "code",
   "execution_count": null,
   "metadata": {},
   "outputs": [],
   "source": [
    "plot_zoomin_motif(ts_1d, 317, motif_point_list, events_ts,  [800, 2500])\n",
    "plt.show()"
   ]
  },
  {
   "cell_type": "code",
   "execution_count": null,
   "metadata": {},
   "outputs": [],
   "source": [
    "plot_zoomin_motif(ts_1d, 317, motif_point_list, events_ts,  [3000, 5000])\n",
    "plt.show()"
   ]
  },
  {
   "cell_type": "code",
   "execution_count": null,
   "metadata": {},
   "outputs": [],
   "source": [
    "# extendedMD code\n",
    "import sys\n",
    "import os\n",
    "sys.path.insert(0, os.path.abspath('../'))\n",
    "from extendedMD.motif_viz import plot_single_motif\n",
    "\n",
    "plot_single_motif(ts_1d, events_ts, 317, motif_point_list, motif_center_list, pattern_list, 'lateral acc')\n",
    "plt.show()"
   ]
  },
  {
   "cell_type": "code",
   "execution_count": null,
   "metadata": {},
   "outputs": [],
   "source": [
    "plot_single_motif(ts_1d, events_ts, 37, motif_point_list, motif_center_list, pattern_list, 'pca')\n",
    "plt.show()"
   ]
  },
  {
   "cell_type": "code",
   "execution_count": null,
   "metadata": {},
   "outputs": [],
   "source": []
  }
 ],
 "metadata": {
  "kernelspec": {
   "display_name": "Python 3",
   "language": "python",
   "name": "python3"
  },
  "language_info": {
   "codemirror_mode": {
    "name": "ipython",
    "version": 3
   },
   "file_extension": ".py",
   "mimetype": "text/x-python",
   "name": "python",
   "nbconvert_exporter": "python",
   "pygments_lexer": "ipython3",
   "version": "3.6.5"
  }
 },
 "nbformat": 4,
 "nbformat_minor": 2
}
