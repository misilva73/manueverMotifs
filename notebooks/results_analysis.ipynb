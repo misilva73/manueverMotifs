{
 "cells": [
  {
   "cell_type": "markdown",
   "metadata": {},
   "source": [
    "# manueverMotifs: results analysis\n",
    "## Driver D6 - Lateral acceleration\n",
    "\n",
    "### 29/09/2019\n",
    "\n",
    "***\n",
    "\n",
    "**Contents**\n",
    "\n",
    "1. [Setup](#section1)\n",
    "2. [Load motifs](#section2)\n",
    "3. [Motif results table](#section3)\n",
    "4. [DBSCAN clustering](#section4)\n",
    "\n",
    "***"
   ]
  },
  {
   "cell_type": "markdown",
   "metadata": {},
   "source": [
    "<a id='section1'></a>\n",
    "## 1. Setup"
   ]
  },
  {
   "cell_type": "code",
   "execution_count": 1,
   "metadata": {},
   "outputs": [],
   "source": [
    "%load_ext autoreload\n",
    "%autoreload 2"
   ]
  },
  {
   "cell_type": "code",
   "execution_count": 2,
   "metadata": {},
   "outputs": [],
   "source": [
    "import time\n",
    "import pickle\n",
    "import pandas as pd\n",
    "import numpy as np\n",
    "from sklearn.cluster import DBSCAN\n",
    "from extendedMD.emd import find_motifs_from_emd\n",
    "from extendedMD.pruning import prune_motifs_with_mdl\n",
    "\n",
    "# local code\n",
    "import sys\n",
    "import os\n",
    "sys.path.insert(0, os.path.abspath('../scripts'))\n",
    "import uah_utils\n",
    "import motif_utils"
   ]
  },
  {
   "cell_type": "code",
   "execution_count": 3,
   "metadata": {},
   "outputs": [],
   "source": [
    "import warnings\n",
    "warnings.filterwarnings('ignore')"
   ]
  },
  {
   "cell_type": "code",
   "execution_count": 4,
   "metadata": {},
   "outputs": [],
   "source": [
    "cwd = os.getcwd()\n",
    "data_folder = os.path.abspath(os.path.join(cwd, os.pardir, os.pardir, 'data-uah/D6'))\n",
    "output_folder = os.path.abspath(os.path.join(cwd, os.pardir, 'data-motifs'))\n",
    "trips = ['20151221120051', '20151217164730', '20151217162714', '20151221112434']\n",
    "R = 0.1\n",
    "freq_per_second=10\n",
    "\n",
    "driver_df = uah_utils.get_full_point_uah_data(data_folder, freq_per_second)"
   ]
  },
  {
   "cell_type": "markdown",
   "metadata": {},
   "source": [
    "<a id='section2'></a>\n",
    "## 2. Load motifs"
   ]
  },
  {
   "cell_type": "code",
   "execution_count": 5,
   "metadata": {},
   "outputs": [],
   "source": [
    "lat_motifs = {}\n",
    "for trip_id in trips:\n",
    "    trip_df = driver_df[driver_df['trip_id'] == trip_id].reset_index(drop=True)\n",
    "    ts = trip_df['ay'].values\n",
    "    file_name = \"motif_lat_\" + trip_df[\"trip_label\"][0] + \"_\" + trip_df[\"road\"][0] + \".p\"\n",
    "    motif_dic_list = pickle.load(open(os.path.join(output_folder, file_name), 'rb'))\n",
    "    lat_motifs[trip_id] = motif_dic_list"
   ]
  },
  {
   "cell_type": "code",
   "execution_count": 6,
   "metadata": {},
   "outputs": [],
   "source": [
    "lon_motifs = {}\n",
    "for trip_id in trips:\n",
    "    trip_df = driver_df[driver_df['trip_id'] == trip_id].reset_index(drop=True)\n",
    "    ts = trip_df['az'].values\n",
    "    file_name = \"motif_lon_\" + trip_df[\"trip_label\"][0] + \"_\" + trip_df[\"road\"][0] + \".p\"\n",
    "    motif_dic_list = pickle.load(open(os.path.join(output_folder, file_name), 'rb'))\n",
    "    lon_motifs[trip_id] = motif_dic_list"
   ]
  },
  {
   "cell_type": "markdown",
   "metadata": {},
   "source": [
    "<a id='section3'></a>\n",
    "## 3. Motif results table\n",
    "\n",
    "### Lateral experiment"
   ]
  },
  {
   "cell_type": "code",
   "execution_count": 7,
   "metadata": {},
   "outputs": [
    {
     "data": {
      "text/html": [
       "<div>\n",
       "<style scoped>\n",
       "    .dataframe tbody tr th:only-of-type {\n",
       "        vertical-align: middle;\n",
       "    }\n",
       "\n",
       "    .dataframe tbody tr th {\n",
       "        vertical-align: top;\n",
       "    }\n",
       "\n",
       "    .dataframe thead th {\n",
       "        text-align: right;\n",
       "    }\n",
       "</style>\n",
       "<table border=\"1\" class=\"dataframe\">\n",
       "  <thead>\n",
       "    <tr style=\"text-align: right;\">\n",
       "      <th></th>\n",
       "      <th>motif</th>\n",
       "      <th>n_motifs</th>\n",
       "      <th>n_prunned_motifs</th>\n",
       "      <th>lc_detection_rate</th>\n",
       "      <th>turn_detection_rate</th>\n",
       "    </tr>\n",
       "  </thead>\n",
       "  <tbody>\n",
       "    <tr>\n",
       "      <th>0</th>\n",
       "      <td>aggressive-motorway</td>\n",
       "      <td>634</td>\n",
       "      <td>7</td>\n",
       "      <td>0.576923</td>\n",
       "      <td>0.290323</td>\n",
       "    </tr>\n",
       "    <tr>\n",
       "      <th>1</th>\n",
       "      <td>drowsy-motorway</td>\n",
       "      <td>1464</td>\n",
       "      <td>8</td>\n",
       "      <td>0.285714</td>\n",
       "      <td>0.360000</td>\n",
       "    </tr>\n",
       "    <tr>\n",
       "      <th>2</th>\n",
       "      <td>normal-motorway</td>\n",
       "      <td>1532</td>\n",
       "      <td>3</td>\n",
       "      <td>0.437500</td>\n",
       "      <td>0.181818</td>\n",
       "    </tr>\n",
       "    <tr>\n",
       "      <th>3</th>\n",
       "      <td>normal-secondary</td>\n",
       "      <td>1113</td>\n",
       "      <td>1</td>\n",
       "      <td>NaN</td>\n",
       "      <td>0.250000</td>\n",
       "    </tr>\n",
       "  </tbody>\n",
       "</table>\n",
       "</div>"
      ],
      "text/plain": [
       "                 motif  n_motifs  n_prunned_motifs  lc_detection_rate  \\\n",
       "0  aggressive-motorway       634                 7           0.576923   \n",
       "1      drowsy-motorway      1464                 8           0.285714   \n",
       "2      normal-motorway      1532                 3           0.437500   \n",
       "3     normal-secondary      1113                 1                NaN   \n",
       "\n",
       "   turn_detection_rate  \n",
       "0             0.290323  \n",
       "1             0.360000  \n",
       "2             0.181818  \n",
       "3             0.250000  "
      ]
     },
     "execution_count": 7,
     "metadata": {},
     "output_type": "execute_result"
    }
   ],
   "source": [
    "lat_results_list = []\n",
    "for trip_id in trips:\n",
    "    trip_df = driver_df[driver_df['trip_id'] == trip_id].reset_index(drop=True)\n",
    "    ts = trip_df['ay'].values\n",
    "    motif_dic_list = lat_motifs[trip_id]\n",
    "    pruned_motif_dic_list = prune_motifs_with_mdl(ts, motif_dic_list, R)\n",
    "    results_dic = {\n",
    "        \"motif\": trip_df[\"trip_label\"][0] + \"-\" + trip_df[\"road\"][0],\n",
    "        \"n_motifs\": len(motif_dic_list),\n",
    "        \"n_prunned_motifs\": len(pruned_motif_dic_list),\n",
    "        \"lc_detection_rate\": motif_utils.compute_lc_detection_rate(pruned_motif_dic_list, trip_df),\n",
    "        \"turn_detection_rate\": motif_utils.compute_turn_detection_rate(pruned_motif_dic_list, trip_df),\n",
    "    }\n",
    "    lat_results_list.append(results_dic)\n",
    "pd.DataFrame(lat_results_list, columns=[\"motif\", \"n_motifs\", \"n_prunned_motifs\", \"lc_detection_rate\", \"turn_detection_rate\"])"
   ]
  },
  {
   "cell_type": "markdown",
   "metadata": {},
   "source": [
    "### Longitudinal experiment"
   ]
  },
  {
   "cell_type": "code",
   "execution_count": 8,
   "metadata": {},
   "outputs": [
    {
     "data": {
      "text/html": [
       "<div>\n",
       "<style scoped>\n",
       "    .dataframe tbody tr th:only-of-type {\n",
       "        vertical-align: middle;\n",
       "    }\n",
       "\n",
       "    .dataframe tbody tr th {\n",
       "        vertical-align: top;\n",
       "    }\n",
       "\n",
       "    .dataframe thead th {\n",
       "        text-align: right;\n",
       "    }\n",
       "</style>\n",
       "<table border=\"1\" class=\"dataframe\">\n",
       "  <thead>\n",
       "    <tr style=\"text-align: right;\">\n",
       "      <th></th>\n",
       "      <th>motif</th>\n",
       "      <th>n_motifs</th>\n",
       "      <th>n_prunned_motifs</th>\n",
       "      <th>acc_detection_rate</th>\n",
       "      <th>brake_detection_rate</th>\n",
       "    </tr>\n",
       "  </thead>\n",
       "  <tbody>\n",
       "    <tr>\n",
       "      <th>0</th>\n",
       "      <td>aggressive-motorway</td>\n",
       "      <td>1272</td>\n",
       "      <td>8</td>\n",
       "      <td>0.285714</td>\n",
       "      <td>0.608696</td>\n",
       "    </tr>\n",
       "    <tr>\n",
       "      <th>1</th>\n",
       "      <td>drowsy-motorway</td>\n",
       "      <td>2039</td>\n",
       "      <td>5</td>\n",
       "      <td>0.200000</td>\n",
       "      <td>0.250000</td>\n",
       "    </tr>\n",
       "    <tr>\n",
       "      <th>2</th>\n",
       "      <td>normal-motorway</td>\n",
       "      <td>1849</td>\n",
       "      <td>3</td>\n",
       "      <td>0.400000</td>\n",
       "      <td>0.400000</td>\n",
       "    </tr>\n",
       "    <tr>\n",
       "      <th>3</th>\n",
       "      <td>normal-secondary</td>\n",
       "      <td>1591</td>\n",
       "      <td>3</td>\n",
       "      <td>0.000000</td>\n",
       "      <td>0.000000</td>\n",
       "    </tr>\n",
       "  </tbody>\n",
       "</table>\n",
       "</div>"
      ],
      "text/plain": [
       "                 motif  n_motifs  n_prunned_motifs  acc_detection_rate  \\\n",
       "0  aggressive-motorway      1272                 8            0.285714   \n",
       "1      drowsy-motorway      2039                 5            0.200000   \n",
       "2      normal-motorway      1849                 3            0.400000   \n",
       "3     normal-secondary      1591                 3            0.000000   \n",
       "\n",
       "   brake_detection_rate  \n",
       "0              0.608696  \n",
       "1              0.250000  \n",
       "2              0.400000  \n",
       "3              0.000000  "
      ]
     },
     "execution_count": 8,
     "metadata": {},
     "output_type": "execute_result"
    }
   ],
   "source": [
    "lon_results_list = []\n",
    "for trip_id in trips:\n",
    "    trip_df = driver_df[driver_df['trip_id'] == trip_id].reset_index(drop=True)\n",
    "    ts = trip_df['az'].values\n",
    "    motif_dic_list = lon_motifs[trip_id]\n",
    "    pruned_motif_dic_list = prune_motifs_with_mdl(ts, motif_dic_list, R)\n",
    "    results_dic = {\n",
    "        \"motif\": trip_df[\"trip_label\"][0] + \"-\" + trip_df[\"road\"][0],\n",
    "        \"n_motifs\": len(motif_dic_list),\n",
    "        \"n_prunned_motifs\": len(pruned_motif_dic_list),\n",
    "        \"acc_detection_rate\": motif_utils.compute_acc_detection_rate(pruned_motif_dic_list, trip_df),\n",
    "        \"brake_detection_rate\": motif_utils.compute_brake_detection_rate(pruned_motif_dic_list, trip_df),   \n",
    "    }\n",
    "    lon_results_list.append(results_dic)\n",
    "pd.DataFrame(lon_results_list, columns=[\"motif\", \"n_motifs\", \"n_prunned_motifs\", \"acc_detection_rate\", \"brake_detection_rate\"])"
   ]
  },
  {
   "cell_type": "markdown",
   "metadata": {},
   "source": [
    "<a id='section4'></a>\n",
    "## 4. DBSCAN clustering"
   ]
  },
  {
   "cell_type": "code",
   "execution_count": 15,
   "metadata": {},
   "outputs": [],
   "source": [
    "min_samples = 15\n",
    "eps = R/2"
   ]
  },
  {
   "cell_type": "markdown",
   "metadata": {},
   "source": [
    "### Lateral experiment"
   ]
  },
  {
   "cell_type": "code",
   "execution_count": 16,
   "metadata": {},
   "outputs": [
    {
     "data": {
      "text/html": [
       "<div>\n",
       "<style scoped>\n",
       "    .dataframe tbody tr th:only-of-type {\n",
       "        vertical-align: middle;\n",
       "    }\n",
       "\n",
       "    .dataframe tbody tr th {\n",
       "        vertical-align: top;\n",
       "    }\n",
       "\n",
       "    .dataframe thead th {\n",
       "        text-align: right;\n",
       "    }\n",
       "</style>\n",
       "<table border=\"1\" class=\"dataframe\">\n",
       "  <thead>\n",
       "    <tr style=\"text-align: right;\">\n",
       "      <th></th>\n",
       "      <th>motif</th>\n",
       "      <th>n_clusters</th>\n",
       "      <th>n_outliers</th>\n",
       "    </tr>\n",
       "  </thead>\n",
       "  <tbody>\n",
       "    <tr>\n",
       "      <th>0</th>\n",
       "      <td>aggressive-motorway</td>\n",
       "      <td>1</td>\n",
       "      <td>614</td>\n",
       "    </tr>\n",
       "    <tr>\n",
       "      <th>1</th>\n",
       "      <td>drowsy-motorway</td>\n",
       "      <td>5</td>\n",
       "      <td>1292</td>\n",
       "    </tr>\n",
       "    <tr>\n",
       "      <th>2</th>\n",
       "      <td>normal-motorway</td>\n",
       "      <td>6</td>\n",
       "      <td>1328</td>\n",
       "    </tr>\n",
       "    <tr>\n",
       "      <th>3</th>\n",
       "      <td>normal-secondary</td>\n",
       "      <td>2</td>\n",
       "      <td>929</td>\n",
       "    </tr>\n",
       "  </tbody>\n",
       "</table>\n",
       "</div>"
      ],
      "text/plain": [
       "                 motif  n_clusters  n_outliers\n",
       "0  aggressive-motorway           1         614\n",
       "1      drowsy-motorway           5        1292\n",
       "2      normal-motorway           6        1328\n",
       "3     normal-secondary           2         929"
      ]
     },
     "execution_count": 16,
     "metadata": {},
     "output_type": "execute_result"
    }
   ],
   "source": [
    "lat_dbscan_list = []\n",
    "for trip_id in trips:\n",
    "    trip_df = driver_df[driver_df['trip_id'] == trip_id].reset_index(drop=True)\n",
    "    file_name = \"dist_lat_\" + trip_df[\"trip_label\"][0] + \"_\" + trip_df[\"road\"][0] + \".npy\"\n",
    "    center_dist_mat = np.load(os.path.join(output_folder, file_name))\n",
    "    dbscan_model = DBSCAN(eps=eps, min_samples=min_samples, metric='precomputed').fit(center_dist_mat)\n",
    "    cluster_labels = dbscan_model.labels_\n",
    "    results_dic = {\n",
    "        \"motif\": trip_df[\"trip_label\"][0] + \"-\" + trip_df[\"road\"][0],\n",
    "        \"n_clusters\": len(set(cluster_labels) - {-1}),\n",
    "        \"n_outliers\": sum(cluster_labels == -1)\n",
    "    }\n",
    "    lat_dbscan_list.append(results_dic)\n",
    "pd.DataFrame(lat_dbscan_list, columns=[\"motif\", \"n_clusters\", \"n_outliers\"])"
   ]
  },
  {
   "cell_type": "markdown",
   "metadata": {},
   "source": [
    "### Longitudinal experiment"
   ]
  },
  {
   "cell_type": "code",
   "execution_count": 17,
   "metadata": {},
   "outputs": [
    {
     "data": {
      "text/html": [
       "<div>\n",
       "<style scoped>\n",
       "    .dataframe tbody tr th:only-of-type {\n",
       "        vertical-align: middle;\n",
       "    }\n",
       "\n",
       "    .dataframe tbody tr th {\n",
       "        vertical-align: top;\n",
       "    }\n",
       "\n",
       "    .dataframe thead th {\n",
       "        text-align: right;\n",
       "    }\n",
       "</style>\n",
       "<table border=\"1\" class=\"dataframe\">\n",
       "  <thead>\n",
       "    <tr style=\"text-align: right;\">\n",
       "      <th></th>\n",
       "      <th>motif</th>\n",
       "      <th>n_clusters</th>\n",
       "      <th>n_outliers</th>\n",
       "    </tr>\n",
       "  </thead>\n",
       "  <tbody>\n",
       "    <tr>\n",
       "      <th>0</th>\n",
       "      <td>aggressive-motorway</td>\n",
       "      <td>8</td>\n",
       "      <td>771</td>\n",
       "    </tr>\n",
       "    <tr>\n",
       "      <th>1</th>\n",
       "      <td>drowsy-motorway</td>\n",
       "      <td>5</td>\n",
       "      <td>477</td>\n",
       "    </tr>\n",
       "    <tr>\n",
       "      <th>2</th>\n",
       "      <td>normal-motorway</td>\n",
       "      <td>5</td>\n",
       "      <td>383</td>\n",
       "    </tr>\n",
       "    <tr>\n",
       "      <th>3</th>\n",
       "      <td>normal-secondary</td>\n",
       "      <td>2</td>\n",
       "      <td>162</td>\n",
       "    </tr>\n",
       "  </tbody>\n",
       "</table>\n",
       "</div>"
      ],
      "text/plain": [
       "                 motif  n_clusters  n_outliers\n",
       "0  aggressive-motorway           8         771\n",
       "1      drowsy-motorway           5         477\n",
       "2      normal-motorway           5         383\n",
       "3     normal-secondary           2         162"
      ]
     },
     "execution_count": 17,
     "metadata": {},
     "output_type": "execute_result"
    }
   ],
   "source": [
    "lon_dbscan_list = []\n",
    "for trip_id in trips:\n",
    "    trip_df = driver_df[driver_df['trip_id'] == trip_id].reset_index(drop=True)\n",
    "    file_name = \"dist_lon_\" + trip_df[\"trip_label\"][0] + \"_\" + trip_df[\"road\"][0] + \".npy\"\n",
    "    center_dist_mat = np.load(os.path.join(output_folder, file_name))\n",
    "    dbscan_model = DBSCAN(eps=eps, min_samples=min_samples, metric='precomputed').fit(center_dist_mat)\n",
    "    cluster_labels = dbscan_model.labels_\n",
    "    results_dic = {\n",
    "        \"motif\": trip_df[\"trip_label\"][0] + \"-\" + trip_df[\"road\"][0],\n",
    "        \"n_clusters\": len(set(cluster_labels) - {-1}),\n",
    "        \"n_outliers\": sum(cluster_labels == -1)\n",
    "    }\n",
    "    lon_dbscan_list.append(results_dic)\n",
    "pd.DataFrame(lon_dbscan_list, columns=[\"motif\", \"n_clusters\", \"n_outliers\"])"
   ]
  },
  {
   "cell_type": "code",
   "execution_count": null,
   "metadata": {},
   "outputs": [],
   "source": []
  }
 ],
 "metadata": {
  "kernelspec": {
   "display_name": "Python 3",
   "language": "python",
   "name": "python3"
  },
  "language_info": {
   "codemirror_mode": {
    "name": "ipython",
    "version": 3
   },
   "file_extension": ".py",
   "mimetype": "text/x-python",
   "name": "python",
   "nbconvert_exporter": "python",
   "pygments_lexer": "ipython3",
   "version": "3.6.5"
  }
 },
 "nbformat": 4,
 "nbformat_minor": 2
}
