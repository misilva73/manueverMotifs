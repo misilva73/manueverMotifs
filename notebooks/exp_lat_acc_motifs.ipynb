{
 "cells": [
  {
   "cell_type": "markdown",
   "metadata": {},
   "source": [
    "# EMD algorithm - Experiments with lateral acceleration in one trip\n",
    "\n",
    "## Maria Inês Silva\n",
    "## 01/02/2019\n",
    "\n",
    "***"
   ]
  },
  {
   "cell_type": "markdown",
   "metadata": {},
   "source": [
    "## Data and library imports"
   ]
  },
  {
   "cell_type": "code",
   "execution_count": null,
   "metadata": {},
   "outputs": [],
   "source": [
    "import pandas as pd\n",
    "import time\n",
    "import pickle\n",
    "import extendedMD.emd as emd\n",
    "from extendedMD.viz import create_motif_table, plot_k_motifs\n",
    "from extendedMD.pruning import prune_motifs_with_mdl\n",
    "\n",
    "# local code\n",
    "import sys\n",
    "import os\n",
    "sys.path.insert(0, os.path.abspath('../scripts'))\n",
    "import dtw_clustering as clust"
   ]
  },
  {
   "cell_type": "code",
   "execution_count": null,
   "metadata": {},
   "outputs": [],
   "source": [
    "cwd = os.getcwd()\n",
    "data_folder = os.path.abspath(os.path.join(cwd, os.pardir, 'data-uah'))\n",
    "output_folder = os.path.abspath(os.path.join(cwd, os.pardir, 'data-motifs'))\n",
    "exp = 1"
   ]
  },
  {
   "cell_type": "code",
   "execution_count": null,
   "metadata": {},
   "outputs": [],
   "source": [
    "trip_df = pd.read_pickle(os.path.join(data_folder, 'trip_df.pkl'))\n",
    "ts = trip_df['ay'].values\n",
    "events_ts = trip_df['event_type'].values"
   ]
  },
  {
   "cell_type": "markdown",
   "metadata": {},
   "source": [
    "## Experiment 1"
   ]
  },
  {
   "cell_type": "code",
   "execution_count": null,
   "metadata": {},
   "outputs": [],
   "source": [
    "R = 0.2\n",
    "win_size = 15\n",
    "paa_size = 3\n",
    "alphabet_size = 5\n",
    "adaptive_break_points = True\n",
    "\n",
    "motif_file_name = 'motif_lat_acc_trip_exp' + str(exp) + '.p'\n",
    "dist_file_name = 'dist_lat_acc_trip_exp' + str(exp) + '.p'\n",
    "exp += 1"
   ]
  },
  {
   "cell_type": "code",
   "execution_count": null,
   "metadata": {},
   "outputs": [],
   "source": [
    "start_time = time.time()\n",
    "motif_dic_list, ts_1d = emd.find_motifs_from_emd(ts, R, win_size, paa_size, alphabet_size, adaptive_break_points)\n",
    "pickle.dump(motif_dic_list, open(os.path.join(output_folder, motif_file_name), \"wb\"))\n",
    "print(\"ExtendedMD algorithm run in {} minutes\".format(round((time.time() - start_time)/60, 2)))\n",
    "\n",
    "motif_df = create_motif_table(motif_dic_list)\n",
    "motif_df.sort_values('mdl_cost').head(10)"
   ]
  },
  {
   "cell_type": "code",
   "execution_count": null,
   "metadata": {},
   "outputs": [],
   "source": [
    "start_time = time.time()\n",
    "pruned_motif_dic_list = prune_motifs_with_mdl(ts, motif_dic_list, R)\n",
    "pruned_motif_df = create_motif_table(pruned_motif_dic_list)\n",
    "print(\"Prunning algorithm run in {} minutes\".format(round((time.time() - start_time)/60, 2)))\n",
    "pruned_motif_df"
   ]
  },
  {
   "cell_type": "code",
   "execution_count": null,
   "metadata": {},
   "outputs": [],
   "source": [
    "plot_k_motifs(len(pruned_motif_df), ts, events_ts, pruned_motif_dic_list, 'lateral acceleration')"
   ]
  },
  {
   "cell_type": "code",
   "execution_count": null,
   "metadata": {},
   "outputs": [],
   "source": [
    "center_ts_list = []\n",
    "for motif_dic in motif_dic_list:\n",
    "    motif_center_ts = [ts[i] for i in motif_dic['center_ts_pointers']]\n",
    "    center_ts_list.append(motif_center_ts)\n",
    "center_dist_mat = clust.compute_dtw_distance_matrix(center_ts_list, parallel=True)\n",
    "np.save(os.path.join(output_folder, dist_file_name), center_dist_mat)"
   ]
  },
  {
   "cell_type": "markdown",
   "metadata": {},
   "source": [
    "## Experiment 2"
   ]
  },
  {
   "cell_type": "code",
   "execution_count": null,
   "metadata": {},
   "outputs": [],
   "source": [
    "R = 0.2\n",
    "win_size = 20\n",
    "paa_size = 4\n",
    "alphabet_size = 5\n",
    "adaptive_break_points = True\n",
    "\n",
    "motif_file_name = 'motif_lat_acc_trip_exp' + str(exp) + '.p'\n",
    "dist_file_name = 'dist_lat_acc_trip_exp' + str(exp) + '.p'\n",
    "exp += 1"
   ]
  },
  {
   "cell_type": "code",
   "execution_count": null,
   "metadata": {},
   "outputs": [],
   "source": [
    "start_time = time.time()\n",
    "motif_dic_list, ts_1d = emd.find_motifs_from_emd(ts, R, win_size, paa_size, alphabet_size, adaptive_break_points)\n",
    "pickle.dump(motif_dic_list, open(os.path.join(output_folder, motif_file_name), \"wb\"))\n",
    "print(\"ExtendedMD algorithm run in {} minutes\".format(round((time.time() - start_time)/60, 2)))\n",
    "\n",
    "motif_df = create_motif_table(motif_dic_list)\n",
    "motif_df.sort_values('mdl_cost').head(10)"
   ]
  },
  {
   "cell_type": "code",
   "execution_count": null,
   "metadata": {},
   "outputs": [],
   "source": [
    "start_time = time.time()\n",
    "pruned_motif_dic_list = prune_motifs_with_mdl(ts, motif_dic_list, R)\n",
    "pruned_motif_df = create_motif_table(pruned_motif_dic_list)\n",
    "print(\"Prunning algorithm run in {} minutes\".format(round((time.time() - start_time)/60, 2)))\n",
    "pruned_motif_df"
   ]
  },
  {
   "cell_type": "code",
   "execution_count": null,
   "metadata": {},
   "outputs": [],
   "source": [
    "plot_k_motifs(len(pruned_motif_df), ts, events_ts, pruned_motif_dic_list, 'lateral acceleration')"
   ]
  },
  {
   "cell_type": "code",
   "execution_count": null,
   "metadata": {},
   "outputs": [],
   "source": [
    "center_ts_list = []\n",
    "for motif_dic in motif_dic_list:\n",
    "    motif_center_ts = [ts[i] for i in motif_dic['center_ts_pointers']]\n",
    "    center_ts_list.append(motif_center_ts)\n",
    "center_dist_mat = clust.compute_dtw_distance_matrix(center_ts_list, parallel=True)\n",
    "np.save(os.path.join(output_folder, dist_file_name), center_dist_mat)"
   ]
  },
  {
   "cell_type": "markdown",
   "metadata": {},
   "source": [
    "## Experiment 3"
   ]
  },
  {
   "cell_type": "code",
   "execution_count": null,
   "metadata": {},
   "outputs": [],
   "source": [
    "R = 0.2\n",
    "win_size = 20\n",
    "paa_size = 2\n",
    "alphabet_size = 5\n",
    "adaptive_break_points = True\n",
    "\n",
    "motif_file_name = 'motif_lat_acc_trip_exp' + str(exp) + '.p'\n",
    "dist_file_name = 'dist_lat_acc_trip_exp' + str(exp) + '.p'\n",
    "exp += 1"
   ]
  },
  {
   "cell_type": "code",
   "execution_count": null,
   "metadata": {},
   "outputs": [],
   "source": [
    "start_time = time.time()\n",
    "motif_dic_list, ts_1d = emd.find_motifs_from_emd(ts, R, win_size, paa_size, alphabet_size, adaptive_break_points)\n",
    "pickle.dump(motif_dic_list, open(os.path.join(output_folder, motif_file_name), \"wb\"))\n",
    "print(\"ExtendedMD algorithm run in {} minutes\".format(round((time.time() - start_time)/60, 2)))\n",
    "\n",
    "motif_df = create_motif_table(motif_dic_list)\n",
    "motif_df.sort_values('mdl_cost').head(10)"
   ]
  },
  {
   "cell_type": "code",
   "execution_count": null,
   "metadata": {},
   "outputs": [],
   "source": [
    "start_time = time.time()\n",
    "pruned_motif_dic_list = prune_motifs_with_mdl(ts, motif_dic_list, R)\n",
    "pruned_motif_df = create_motif_table(pruned_motif_dic_list)\n",
    "print(\"Prunning algorithm run in {} minutes\".format(round((time.time() - start_time)/60, 2)))\n",
    "pruned_motif_df"
   ]
  },
  {
   "cell_type": "code",
   "execution_count": null,
   "metadata": {},
   "outputs": [],
   "source": [
    "plot_k_motifs(len(pruned_motif_df), ts, events_ts, pruned_motif_dic_list, 'lateral acceleration')"
   ]
  },
  {
   "cell_type": "code",
   "execution_count": null,
   "metadata": {},
   "outputs": [],
   "source": [
    "center_ts_list = []\n",
    "for motif_dic in motif_dic_list:\n",
    "    motif_center_ts = [ts[i] for i in motif_dic['center_ts_pointers']]\n",
    "    center_ts_list.append(motif_center_ts)\n",
    "center_dist_mat = clust.compute_dtw_distance_matrix(center_ts_list, parallel=True)\n",
    "np.save(os.path.join(output_folder, dist_file_name), center_dist_mat)"
   ]
  },
  {
   "cell_type": "markdown",
   "metadata": {},
   "source": [
    "## Experiment 4"
   ]
  },
  {
   "cell_type": "code",
   "execution_count": null,
   "metadata": {},
   "outputs": [],
   "source": [
    "R = 0.2\n",
    "win_size = 15\n",
    "paa_size = 3\n",
    "alphabet_size = 7\n",
    "adaptive_break_points = False\n",
    "\n",
    "motif_file_name = 'motif_lat_acc_trip_exp' + str(exp) + '.p'\n",
    "dist_file_name = 'dist_lat_acc_trip_exp' + str(exp) + '.p'\n",
    "exp += 1"
   ]
  },
  {
   "cell_type": "code",
   "execution_count": null,
   "metadata": {},
   "outputs": [],
   "source": [
    "start_time = time.time()\n",
    "motif_dic_list, ts_1d = emd.find_motifs_from_emd(ts, R, win_size, paa_size, alphabet_size, adaptive_break_points)\n",
    "pickle.dump(motif_dic_list, open(os.path.join(output_folder, motif_file_name), \"wb\"))\n",
    "print(\"ExtendedMD algorithm run in {} minutes\".format(round((time.time() - start_time)/60, 2)))\n",
    "\n",
    "motif_df = create_motif_table(motif_dic_list)\n",
    "motif_df.sort_values('mdl_cost').head(10)"
   ]
  },
  {
   "cell_type": "code",
   "execution_count": null,
   "metadata": {},
   "outputs": [],
   "source": [
    "start_time = time.time()\n",
    "pruned_motif_dic_list = prune_motifs_with_mdl(ts, motif_dic_list, R)\n",
    "pruned_motif_df = create_motif_table(pruned_motif_dic_list)\n",
    "print(\"Prunning algorithm run in {} minutes\".format(round((time.time() - start_time)/60, 2)))\n",
    "pruned_motif_df"
   ]
  },
  {
   "cell_type": "code",
   "execution_count": null,
   "metadata": {},
   "outputs": [],
   "source": [
    "plot_k_motifs(len(pruned_motif_df), ts, events_ts, pruned_motif_dic_list, 'lateral acceleration')"
   ]
  },
  {
   "cell_type": "code",
   "execution_count": null,
   "metadata": {},
   "outputs": [],
   "source": [
    "center_ts_list = []\n",
    "for motif_dic in motif_dic_list:\n",
    "    motif_center_ts = [ts[i] for i in motif_dic['center_ts_pointers']]\n",
    "    center_ts_list.append(motif_center_ts)\n",
    "center_dist_mat = clust.compute_dtw_distance_matrix(center_ts_list, parallel=True)\n",
    "np.save(os.path.join(output_folder, dist_file_name), center_dist_mat)"
   ]
  },
  {
   "cell_type": "markdown",
   "metadata": {},
   "source": [
    "## Experiment 5"
   ]
  },
  {
   "cell_type": "code",
   "execution_count": null,
   "metadata": {},
   "outputs": [],
   "source": [
    "R = 0.2\n",
    "win_size = 20\n",
    "paa_size = 4\n",
    "alphabet_size = 7\n",
    "adaptive_break_points = False\n",
    "\n",
    "motif_file_name = 'motif_lat_acc_trip_exp' + str(exp) + '.p'\n",
    "dist_file_name = 'dist_lat_acc_trip_exp' + str(exp) + '.p'\n",
    "exp += 1"
   ]
  },
  {
   "cell_type": "code",
   "execution_count": null,
   "metadata": {},
   "outputs": [],
   "source": [
    "start_time = time.time()\n",
    "motif_dic_list, ts_1d = emd.find_motifs_from_emd(ts, R, win_size, paa_size, alphabet_size, adaptive_break_points)\n",
    "pickle.dump(motif_dic_list, open(os.path.join(output_folder, motif_file_name), \"wb\"))\n",
    "print(\"ExtendedMD algorithm run in {} minutes\".format(round((time.time() - start_time)/60, 2)))\n",
    "\n",
    "motif_df = create_motif_table(motif_dic_list)\n",
    "motif_df.sort_values('mdl_cost').head(10)"
   ]
  },
  {
   "cell_type": "code",
   "execution_count": null,
   "metadata": {},
   "outputs": [],
   "source": [
    "start_time = time.time()\n",
    "pruned_motif_dic_list = prune_motifs_with_mdl(ts, motif_dic_list, R)\n",
    "pruned_motif_df = create_motif_table(pruned_motif_dic_list)\n",
    "print(\"Prunning algorithm run in {} minutes\".format(round((time.time() - start_time)/60, 2)))\n",
    "pruned_motif_df"
   ]
  },
  {
   "cell_type": "code",
   "execution_count": null,
   "metadata": {},
   "outputs": [],
   "source": [
    "plot_k_motifs(len(pruned_motif_df), ts, events_ts, pruned_motif_dic_list, 'lateral acceleration')"
   ]
  },
  {
   "cell_type": "code",
   "execution_count": null,
   "metadata": {},
   "outputs": [],
   "source": [
    "center_ts_list = []\n",
    "for motif_dic in motif_dic_list:\n",
    "    motif_center_ts = [ts[i] for i in motif_dic['center_ts_pointers']]\n",
    "    center_ts_list.append(motif_center_ts)\n",
    "center_dist_mat = clust.compute_dtw_distance_matrix(center_ts_list, parallel=True)\n",
    "np.save(os.path.join(output_folder, dist_file_name), center_dist_mat)"
   ]
  },
  {
   "cell_type": "markdown",
   "metadata": {},
   "source": [
    "## Experiment 6"
   ]
  },
  {
   "cell_type": "code",
   "execution_count": null,
   "metadata": {},
   "outputs": [],
   "source": [
    "R = 0.2\n",
    "win_size = 20\n",
    "paa_size = 2\n",
    "alphabet_size = 7\n",
    "adaptive_break_points = False\n",
    "\n",
    "motif_file_name = 'motif_lat_acc_trip_exp' + str(exp) + '.p'\n",
    "dist_file_name = 'dist_lat_acc_trip_exp' + str(exp) + '.p'\n",
    "exp += 1"
   ]
  },
  {
   "cell_type": "code",
   "execution_count": null,
   "metadata": {},
   "outputs": [],
   "source": [
    "start_time = time.time()\n",
    "motif_dic_list, ts_1d = emd.find_motifs_from_emd(ts, R, win_size, paa_size, alphabet_size, adaptive_break_points)\n",
    "pickle.dump(motif_dic_list, open(os.path.join(output_folder, motif_file_name), \"wb\"))\n",
    "print(\"ExtendedMD algorithm run in {} minutes\".format(round((time.time() - start_time)/60, 2)))\n",
    "\n",
    "motif_df = create_motif_table(motif_dic_list)\n",
    "motif_df.sort_values('mdl_cost').head(10)"
   ]
  },
  {
   "cell_type": "code",
   "execution_count": null,
   "metadata": {},
   "outputs": [],
   "source": [
    "start_time = time.time()\n",
    "pruned_motif_dic_list = prune_motifs_with_mdl(ts, motif_dic_list, R)\n",
    "pruned_motif_df = create_motif_table(pruned_motif_dic_list)\n",
    "print(\"Prunning algorithm run in {} minutes\".format(round((time.time() - start_time)/60, 2)))\n",
    "pruned_motif_df"
   ]
  },
  {
   "cell_type": "code",
   "execution_count": null,
   "metadata": {},
   "outputs": [],
   "source": [
    "plot_k_motifs(len(pruned_motif_df), ts, events_ts, pruned_motif_dic_list, 'lateral acceleration')"
   ]
  },
  {
   "cell_type": "code",
   "execution_count": null,
   "metadata": {},
   "outputs": [],
   "source": [
    "center_ts_list = []\n",
    "for motif_dic in motif_dic_list:\n",
    "    motif_center_ts = [ts[i] for i in motif_dic['center_ts_pointers']]\n",
    "    center_ts_list.append(motif_center_ts)\n",
    "center_dist_mat = clust.compute_dtw_distance_matrix(center_ts_list, parallel=True)\n",
    "np.save(os.path.join(output_folder, dist_file_name), center_dist_mat)"
   ]
  }
 ],
 "metadata": {
  "kernelspec": {
   "display_name": "Python 3",
   "language": "python",
   "name": "python3"
  },
  "language_info": {
   "codemirror_mode": {
    "name": "ipython",
    "version": 3
   },
   "file_extension": ".py",
   "mimetype": "text/x-python",
   "name": "python",
   "nbconvert_exporter": "python",
   "pygments_lexer": "ipython3",
   "version": "3.6.5"
  }
 },
 "nbformat": 4,
 "nbformat_minor": 2
}
