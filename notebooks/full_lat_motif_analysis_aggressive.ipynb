{
 "cells": [
  {
   "cell_type": "markdown",
   "metadata": {},
   "source": [
    "# manueverMotifs full analysis\n",
    "## Aggressive trip in motorway - Lateral acceleration\n",
    "\n",
    "### Maria Inês Silva\n",
    "### 05/02/2019\n",
    "\n",
    "***\n",
    "\n",
    "**Contents**\n",
    "\n",
    "1. [Data and library imports](#section1)\n",
    "2. [Motif extraction](#section2)\n",
    "3. [Motif prunning](#section3)\n",
    "4. [Motif clustering](#section4)\n",
    "5. [Add-hoc exploration](#section5)\n",
    "\n",
    "***"
   ]
  },
  {
   "cell_type": "markdown",
   "metadata": {},
   "source": [
    "<a id='section1'></a>\n",
    "## 1. Data and library imports"
   ]
  },
  {
   "cell_type": "code",
   "execution_count": null,
   "metadata": {},
   "outputs": [],
   "source": [
    "import numpy as np\n",
    "import pandas as pd\n",
    "import time\n",
    "import pickle\n",
    "from sklearn.cluster import DBSCAN\n",
    "from extendedMD.emd import find_motifs_from_emd\n",
    "from extendedMD.viz import create_motif_table\n",
    "from extendedMD.pruning import prune_motifs_with_mdl\n",
    "\n",
    "# local code\n",
    "import sys\n",
    "import os\n",
    "sys.path.insert(0, os.path.abspath('../scripts'))\n",
    "import uah_utils\n",
    "import motif_utils\n",
    "import lat_viz"
   ]
  },
  {
   "cell_type": "code",
   "execution_count": null,
   "metadata": {},
   "outputs": [],
   "source": [
    "cwd = os.getcwd()\n",
    "data_folder = os.path.abspath(os.path.join(cwd, os.pardir, 'data-uah/D6'))\n",
    "\n",
    "driver_df = uah_utils.get_full_point_uah_data(data_folder)\n",
    "trip_df = driver_df[driver_df['trip_id']=='20151221120051']\n",
    "ts = trip_df['ay'].values\n",
    "events_ts = trip_df['event_type'].values"
   ]
  },
  {
   "cell_type": "markdown",
   "metadata": {},
   "source": [
    "**Remove!**"
   ]
  },
  {
   "cell_type": "code",
   "execution_count": null,
   "metadata": {},
   "outputs": [],
   "source": [
    "output_folder = os.path.abspath(os.path.join(cwd, os.pardir, 'data-motifs'))\n",
    "motif_file_name = 'motif_lat_acc_aggressive_trip.p'\n",
    "dist_file_name = 'dist_lat_acc_aggressive_trip.npy'\n",
    "\n",
    "motif_dic_list = pickle.load(open(os.path.join(output_folder, motif_file_name), 'rb'))\n",
    "center_dist_mat = np.load(os.path.join(output_folder, dist_file_name))"
   ]
  },
  {
   "cell_type": "markdown",
   "metadata": {},
   "source": [
    "<a id='section2'></a>\n",
    "## 2. Motif extraction"
   ]
  },
  {
   "cell_type": "code",
   "execution_count": null,
   "metadata": {},
   "outputs": [],
   "source": [
    "R = 0.1\n",
    "win_size = 10\n",
    "paa_size = 2\n",
    "alphabet_size = 5\n",
    "adaptive_break_points = False"
   ]
  },
  {
   "cell_type": "code",
   "execution_count": null,
   "metadata": {},
   "outputs": [],
   "source": [
    "start_time = time.time()\n",
    "motif_dic_list, ts_1d = find_motifs_from_emd(ts, R, win_size, paa_size, alphabet_size, adaptive_break_points)\n",
    "print(\"ExtendedMD algorithm run in {} minutes\".format(round((time.time() - start_time)/60, 2)))"
   ]
  },
  {
   "cell_type": "code",
   "execution_count": null,
   "metadata": {},
   "outputs": [],
   "source": [
    "len(motif_dic_list)"
   ]
  },
  {
   "cell_type": "markdown",
   "metadata": {},
   "source": [
    "<a id='section3'></a>\n",
    "## 3. Motif prunning"
   ]
  },
  {
   "cell_type": "code",
   "execution_count": null,
   "metadata": {},
   "outputs": [],
   "source": [
    "pruned_motif_dic_list = prune_motifs_with_mdl(ts, motif_dic_list, R)\n",
    "\n",
    "pruned_motif_df = create_motif_table(pruned_motif_dic_list)\n",
    "pruned_motif_df"
   ]
  },
  {
   "cell_type": "code",
   "execution_count": null,
   "metadata": {},
   "outputs": [],
   "source": [
    "lat_viz.plot_k_lat_motifs(len(pruned_motif_df), ts, events_ts, pruned_motif_dic_list)"
   ]
  },
  {
   "cell_type": "markdown",
   "metadata": {},
   "source": [
    "<a id='section4'></a>\n",
    "## 4. Motif clustering"
   ]
  },
  {
   "cell_type": "code",
   "execution_count": null,
   "metadata": {},
   "outputs": [],
   "source": [
    "center_ts_list = []\n",
    "for motif_dic in motif_dic_list:\n",
    "    motif_center_ts = [ts[i] for i in motif_dic['center_ts_pointers']]\n",
    "    center_ts_list.append(motif_center_ts)\n",
    "center_dist_mat = motif_utils.compute_dtw_distance_matrix(center_ts_list, parallel=True)"
   ]
  },
  {
   "cell_type": "code",
   "execution_count": null,
   "metadata": {},
   "outputs": [],
   "source": [
    "dbscan_model = DBSCAN(eps=R, metric='precomputed').fit(center_dist_mat)\n",
    "cluster_labels = dbscan_model.labels_\n",
    "set(cluster_labels)"
   ]
  },
  {
   "cell_type": "code",
   "execution_count": null,
   "metadata": {},
   "outputs": [],
   "source": [
    "lat_viz.plot_lat_motif_groups(ts, events_ts, motif_dic_list, cluster_labels)"
   ]
  },
  {
   "cell_type": "markdown",
   "metadata": {},
   "source": [
    "<a id='section5'></a>\n",
    "## 5. Add-hoc exploration"
   ]
  },
  {
   "cell_type": "code",
   "execution_count": null,
   "metadata": {},
   "outputs": [],
   "source": [
    "mean_dist_list = [np.mean(vec) for vec in center_dist_mat]"
   ]
  },
  {
   "cell_type": "code",
   "execution_count": null,
   "metadata": {},
   "outputs": [],
   "source": [
    "import matplotlib.pyplot as plt\n",
    "motif_dic = motif_dic_list[np.argmax(mean_dist_list)]\n",
    "lat_viz.plot_single_lat_motif(ts, events_ts, motif_dic)\n",
    "plt.show()"
   ]
  },
  {
   "cell_type": "code",
   "execution_count": null,
   "metadata": {},
   "outputs": [],
   "source": [
    "lat_viz.plot_zoomin_lat_motif(ts, motif_dic, events_ts,  [1300, 1800])\n",
    "plt.show()"
   ]
  },
  {
   "cell_type": "code",
   "execution_count": null,
   "metadata": {},
   "outputs": [],
   "source": [
    "lat_viz.plot_zoomin_lat_motif(ts, motif_dic, events_ts,  [4000, 5000])\n",
    "plt.show()"
   ]
  },
  {
   "cell_type": "code",
   "execution_count": null,
   "metadata": {},
   "outputs": [],
   "source": [
    "motif_index = motif_utils.return_motif_index_with_pattern(motif_dic_list, ['ea', 'da', 'ca', 'ba'])\n",
    "motif_neighbors_dic_list = motif_utils.get_motif_k_neighbors(motif_dic_list, motif_index, center_dist_mat, 30)\n",
    "lat_viz.plot_single_lat_motif_group(ts, events_ts, motif_neighbors_dic_list, 'Neighbors')\n",
    "plt.show()"
   ]
  },
  {
   "cell_type": "code",
   "execution_count": null,
   "metadata": {},
   "outputs": [],
   "source": [
    "create_motif_table(motif_neighbors_dic_list)"
   ]
  },
  {
   "cell_type": "code",
   "execution_count": null,
   "metadata": {},
   "outputs": [],
   "source": []
  }
 ],
 "metadata": {
  "kernelspec": {
   "display_name": "Python 3",
   "language": "python",
   "name": "python3"
  },
  "language_info": {
   "codemirror_mode": {
    "name": "ipython",
    "version": 3
   },
   "file_extension": ".py",
   "mimetype": "text/x-python",
   "name": "python",
   "nbconvert_exporter": "python",
   "pygments_lexer": "ipython3",
   "version": "3.6.5"
  }
 },
 "nbformat": 4,
 "nbformat_minor": 2
}
