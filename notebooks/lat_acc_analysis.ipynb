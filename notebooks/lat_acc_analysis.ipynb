{
 "cells": [
  {
   "cell_type": "markdown",
   "metadata": {},
   "source": [
    "# EMD algorithm - Full analysis for the lateral acceleration\n",
    "\n",
    "## Maria Inês Silva\n",
    "## 05/02/2019\n",
    "\n",
    "***"
   ]
  },
  {
   "cell_type": "markdown",
   "metadata": {},
   "source": [
    "## Data and library imports"
   ]
  },
  {
   "cell_type": "code",
   "execution_count": 1,
   "metadata": {},
   "outputs": [],
   "source": [
    "import numpy as np\n",
    "import pandas as pd\n",
    "import time\n",
    "import pickle\n",
    "import extendedMD.emd as emd\n",
    "from extendedMD.viz import create_motif_table\n",
    "from extendedMD.pruning import prune_motifs_with_mdl\n",
    "\n",
    "# local code\n",
    "import sys\n",
    "import os\n",
    "sys.path.insert(0, os.path.abspath('../scripts'))\n",
    "import motif_utils\n",
    "import uah_utils"
   ]
  },
  {
   "cell_type": "code",
   "execution_count": 2,
   "metadata": {},
   "outputs": [],
   "source": [
    "cwd = os.getcwd()\n",
    "data_folder = os.path.abspath(os.path.join(cwd, os.pardir, 'data-uah/D6'))\n",
    "output_folder = os.path.abspath(os.path.join(cwd, os.pardir, 'data-motifs'))\n",
    "\n",
    "driver_df = uah_utils.get_full_point_uah_data(data_folder)"
   ]
  },
  {
   "cell_type": "markdown",
   "metadata": {},
   "source": [
    "## 1. Normal motorway trip"
   ]
  },
  {
   "cell_type": "code",
   "execution_count": 3,
   "metadata": {},
   "outputs": [],
   "source": [
    "trip_df = driver_df[driver_df['trip_id']=='20151217162714']\n",
    "ts = trip_df['ay'].values\n",
    "events_ts = trip_df['event_type'].values\n",
    "\n",
    "R = 0.1\n",
    "win_size = 10\n",
    "paa_size = 2\n",
    "alphabet_size = 5\n",
    "adaptive_break_points = False\n",
    "\n",
    "motif_file_name = 'motif_lat_acc_normal_trip.p'\n",
    "dist_file_name = 'dist_lat_acc_normal_trip.npy'"
   ]
  },
  {
   "cell_type": "code",
   "execution_count": 4,
   "metadata": {},
   "outputs": [
    {
     "name": "stdout",
     "output_type": "stream",
     "text": [
      "Motif candidates of size 1 successfully extracted\n",
      "Motif candidates of size 2 successfully extracted\n",
      "Motif candidates of size 3 successfully extracted\n",
      "Motif candidates of size 4 successfully extracted\n",
      "Motif candidates of size 5 successfully extracted\n",
      "Motif candidates of size 6 successfully extracted\n",
      "Motif candidates of size 7 successfully extracted\n",
      "Motif candidates of size 8 successfully extracted\n",
      "Motif candidates of size 9 successfully extracted\n",
      "Motif candidates of size 10 successfully extracted\n",
      "Motif candidates of size 11 successfully extracted\n",
      "Motif candidates of size 12 successfully extracted\n",
      "Motif candidates of size 13 successfully extracted\n",
      "Motif candidates of size 14 successfully extracted\n",
      "Motif candidates of size 15 successfully extracted\n",
      "ExtendedMD algorithm run in 11.66 minutes\n"
     ]
    }
   ],
   "source": [
    "start_time = time.time()\n",
    "motif_dic_list, ts_1d = emd.find_motifs_from_emd(ts, R, win_size, paa_size, alphabet_size, adaptive_break_points)\n",
    "pickle.dump(motif_dic_list, open(os.path.join(output_folder, motif_file_name), \"wb\"))\n",
    "print(\"ExtendedMD algorithm run in {} minutes\".format(round((time.time() - start_time)/60, 2)))"
   ]
  },
  {
   "cell_type": "code",
   "execution_count": 5,
   "metadata": {},
   "outputs": [
    {
     "name": "stdout",
     "output_type": "stream",
     "text": [
      "Distance matrix computed in 72.5 minutes\n"
     ]
    }
   ],
   "source": [
    "center_ts_list = []\n",
    "for motif_dic in motif_dic_list:\n",
    "    motif_center_ts = [ts[i] for i in motif_dic['center_ts_pointers']]\n",
    "    center_ts_list.append(motif_center_ts)\n",
    "center_dist_mat = motif_utils.compute_dtw_distance_matrix(center_ts_list, parallel=True)\n",
    "np.save(os.path.join(output_folder, dist_file_name), center_dist_mat)"
   ]
  },
  {
   "cell_type": "markdown",
   "metadata": {},
   "source": [
    "## 2. Aggressive motorway trip"
   ]
  },
  {
   "cell_type": "code",
   "execution_count": 6,
   "metadata": {},
   "outputs": [],
   "source": [
    "trip_df = driver_df[driver_df['trip_id']=='20151221120051']\n",
    "ts = trip_df['ay'].values\n",
    "events_ts = trip_df['event_type'].values\n",
    "\n",
    "R = 0.1\n",
    "win_size = 10\n",
    "paa_size = 2\n",
    "alphabet_size = 5\n",
    "adaptive_break_points = False\n",
    "\n",
    "motif_file_name = 'motif_lat_acc_aggressive_trip.p'\n",
    "dist_file_name = 'dist_lat_acc_aggressive_trip.npy'"
   ]
  },
  {
   "cell_type": "code",
   "execution_count": 7,
   "metadata": {},
   "outputs": [
    {
     "name": "stdout",
     "output_type": "stream",
     "text": [
      "Motif candidates of size 1 successfully extracted\n",
      "Motif candidates of size 2 successfully extracted\n",
      "Motif candidates of size 3 successfully extracted\n",
      "Motif candidates of size 4 successfully extracted\n",
      "Motif candidates of size 5 successfully extracted\n",
      "Motif candidates of size 6 successfully extracted\n",
      "Motif candidates of size 7 successfully extracted\n",
      "Motif candidates of size 8 successfully extracted\n",
      "Motif candidates of size 9 successfully extracted\n",
      "Motif candidates of size 10 successfully extracted\n",
      "Motif candidates of size 11 successfully extracted\n",
      "Motif candidates of size 12 successfully extracted\n",
      "Motif candidates of size 13 successfully extracted\n",
      "Motif candidates of size 14 successfully extracted\n",
      "Motif candidates of size 15 successfully extracted\n",
      "Motif candidates of size 16 successfully extracted\n",
      "Motif candidates of size 17 successfully extracted\n",
      "ExtendedMD algorithm run in 8.91 minutes\n"
     ]
    }
   ],
   "source": [
    "start_time = time.time()\n",
    "motif_dic_list, ts_1d = emd.find_motifs_from_emd(ts, R, win_size, paa_size, alphabet_size, adaptive_break_points)\n",
    "pickle.dump(motif_dic_list, open(os.path.join(output_folder, motif_file_name), \"wb\"))\n",
    "print(\"ExtendedMD algorithm run in {} minutes\".format(round((time.time() - start_time)/60, 2)))"
   ]
  },
  {
   "cell_type": "code",
   "execution_count": 8,
   "metadata": {},
   "outputs": [
    {
     "name": "stdout",
     "output_type": "stream",
     "text": [
      "Distance matrix computed in 31.8 minutes\n"
     ]
    }
   ],
   "source": [
    "center_ts_list = []\n",
    "for motif_dic in motif_dic_list:\n",
    "    motif_center_ts = [ts[i] for i in motif_dic['center_ts_pointers']]\n",
    "    center_ts_list.append(motif_center_ts)\n",
    "center_dist_mat = motif_utils.compute_dtw_distance_matrix(center_ts_list, parallel=True)\n",
    "np.save(os.path.join(output_folder, dist_file_name), center_dist_mat)"
   ]
  },
  {
   "cell_type": "markdown",
   "metadata": {},
   "source": [
    "## 3. Drowsy motorway trip"
   ]
  },
  {
   "cell_type": "code",
   "execution_count": 9,
   "metadata": {},
   "outputs": [],
   "source": [
    "trip_df = driver_df[driver_df['trip_id']=='20151217164730']\n",
    "ts = trip_df['ay'].values\n",
    "events_ts = trip_df['event_type'].values\n",
    "\n",
    "R = 0.1\n",
    "win_size = 10\n",
    "paa_size = 2\n",
    "alphabet_size = 5\n",
    "adaptive_break_points = False\n",
    "\n",
    "motif_file_name = 'motif_lat_acc_drowsy_trip.p'\n",
    "dist_file_name = 'dist_lat_acc_drowsy_trip.npy'"
   ]
  },
  {
   "cell_type": "code",
   "execution_count": 10,
   "metadata": {},
   "outputs": [
    {
     "name": "stdout",
     "output_type": "stream",
     "text": [
      "Motif candidates of size 1 successfully extracted\n",
      "Motif candidates of size 2 successfully extracted\n",
      "Motif candidates of size 3 successfully extracted\n",
      "Motif candidates of size 4 successfully extracted\n",
      "Motif candidates of size 5 successfully extracted\n",
      "Motif candidates of size 6 successfully extracted\n",
      "Motif candidates of size 7 successfully extracted\n",
      "Motif candidates of size 8 successfully extracted\n",
      "Motif candidates of size 9 successfully extracted\n",
      "Motif candidates of size 10 successfully extracted\n",
      "Motif candidates of size 11 successfully extracted\n",
      "Motif candidates of size 12 successfully extracted\n",
      "Motif candidates of size 13 successfully extracted\n",
      "Motif candidates of size 14 successfully extracted\n",
      "Motif candidates of size 15 successfully extracted\n",
      "Motif candidates of size 16 successfully extracted\n",
      "Motif candidates of size 17 successfully extracted\n",
      "Motif candidates of size 18 successfully extracted\n",
      "Motif candidates of size 19 successfully extracted\n",
      "Motif candidates of size 20 successfully extracted\n",
      "ExtendedMD algorithm run in 12.06 minutes\n"
     ]
    }
   ],
   "source": [
    "start_time = time.time()\n",
    "motif_dic_list, ts_1d = emd.find_motifs_from_emd(ts, R, win_size, paa_size, alphabet_size, adaptive_break_points)\n",
    "pickle.dump(motif_dic_list, open(os.path.join(output_folder, motif_file_name), \"wb\"))\n",
    "print(\"ExtendedMD algorithm run in {} minutes\".format(round((time.time() - start_time)/60, 2)))"
   ]
  },
  {
   "cell_type": "code",
   "execution_count": 11,
   "metadata": {},
   "outputs": [
    {
     "name": "stdout",
     "output_type": "stream",
     "text": [
      "Distance matrix computed in 85.1 minutes\n"
     ]
    }
   ],
   "source": [
    "center_ts_list = []\n",
    "for motif_dic in motif_dic_list:\n",
    "    motif_center_ts = [ts[i] for i in motif_dic['center_ts_pointers']]\n",
    "    center_ts_list.append(motif_center_ts)\n",
    "center_dist_mat = motif_utils.compute_dtw_distance_matrix(center_ts_list, parallel=True)\n",
    "np.save(os.path.join(output_folder, dist_file_name), center_dist_mat)"
   ]
  },
  {
   "cell_type": "markdown",
   "metadata": {},
   "source": [
    "## 4. Normal Secondary trip"
   ]
  },
  {
   "cell_type": "code",
   "execution_count": 12,
   "metadata": {},
   "outputs": [],
   "source": [
    "trip_df = driver_df[driver_df['trip_id']=='20151221112434']\n",
    "ts = trip_df['ay'].values\n",
    "events_ts = trip_df['event_type'].values\n",
    "\n",
    "R = 0.1\n",
    "win_size = 10\n",
    "paa_size = 2\n",
    "alphabet_size = 5\n",
    "adaptive_break_points = False\n",
    "\n",
    "motif_file_name = 'motif_lat_acc_secondary_trip.p'\n",
    "dist_file_name = 'dist_lat_acc_secondary_trip.npy'"
   ]
  },
  {
   "cell_type": "code",
   "execution_count": 13,
   "metadata": {},
   "outputs": [
    {
     "name": "stdout",
     "output_type": "stream",
     "text": [
      "Motif candidates of size 1 successfully extracted\n",
      "Motif candidates of size 2 successfully extracted\n",
      "Motif candidates of size 3 successfully extracted\n",
      "Motif candidates of size 4 successfully extracted\n",
      "Motif candidates of size 5 successfully extracted\n",
      "Motif candidates of size 6 successfully extracted\n",
      "Motif candidates of size 7 successfully extracted\n",
      "Motif candidates of size 8 successfully extracted\n",
      "Motif candidates of size 9 successfully extracted\n",
      "Motif candidates of size 10 successfully extracted\n",
      "Motif candidates of size 11 successfully extracted\n",
      "Motif candidates of size 12 successfully extracted\n",
      "Motif candidates of size 13 successfully extracted\n",
      "ExtendedMD algorithm run in 7.6 minutes\n"
     ]
    }
   ],
   "source": [
    "start_time = time.time()\n",
    "motif_dic_list, ts_1d = emd.find_motifs_from_emd(ts, R, win_size, paa_size, alphabet_size, adaptive_break_points)\n",
    "pickle.dump(motif_dic_list, open(os.path.join(output_folder, motif_file_name), \"wb\"))\n",
    "print(\"ExtendedMD algorithm run in {} minutes\".format(round((time.time() - start_time)/60, 2)))"
   ]
  },
  {
   "cell_type": "code",
   "execution_count": 14,
   "metadata": {},
   "outputs": [
    {
     "name": "stdout",
     "output_type": "stream",
     "text": [
      "Distance matrix computed in 35.4 minutes\n"
     ]
    }
   ],
   "source": [
    "center_ts_list = []\n",
    "for motif_dic in motif_dic_list:\n",
    "    motif_center_ts = [ts[i] for i in motif_dic['center_ts_pointers']]\n",
    "    center_ts_list.append(motif_center_ts)\n",
    "center_dist_mat = motif_utils.compute_dtw_distance_matrix(center_ts_list, parallel=True)\n",
    "np.save(os.path.join(output_folder, dist_file_name), center_dist_mat)"
   ]
  }
 ],
 "metadata": {
  "kernelspec": {
   "display_name": "Python 3",
   "language": "python",
   "name": "python3"
  },
  "language_info": {
   "codemirror_mode": {
    "name": "ipython",
    "version": 3
   },
   "file_extension": ".py",
   "mimetype": "text/x-python",
   "name": "python",
   "nbconvert_exporter": "python",
   "pygments_lexer": "ipython3",
   "version": "3.6.5"
  }
 },
 "nbformat": 4,
 "nbformat_minor": 2
}
